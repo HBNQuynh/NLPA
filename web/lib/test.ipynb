{
 "cells": [
  {
   "cell_type": "code",
   "execution_count": 2,
   "id": "e7f65484",
   "metadata": {},
   "outputs": [
    {
     "name": "stdout",
     "output_type": "stream",
     "text": [
      "Collecting firebase-admin\n",
      "  Downloading firebase_admin-6.8.0-py3-none-any.whl (134 kB)\n",
      "     ---------------------------------------- 0.0/134.2 kB ? eta -:--:--\n",
      "     ----------- --------------------------- 41.0/134.2 kB 1.9 MB/s eta 0:00:01\n",
      "     -------------------------------------- 134.2/134.2 kB 2.0 MB/s eta 0:00:00\n",
      "Collecting cachecontrol>=0.12.14\n",
      "  Downloading cachecontrol-0.14.2-py3-none-any.whl (21 kB)\n",
      "Requirement already satisfied: google-cloud-storage>=1.37.1 in c:\\users\\bachn\\appdata\\local\\programs\\python\\python310\\lib\\site-packages (from firebase-admin) (3.1.0)\n",
      "Collecting google-cloud-firestore>=2.19.0\n",
      "  Downloading google_cloud_firestore-2.20.2-py3-none-any.whl (358 kB)\n",
      "     ---------------------------------------- 0.0/358.9 kB ? eta -:--:--\n",
      "     ---------------- --------------------- 153.6/358.9 kB 3.1 MB/s eta 0:00:01\n",
      "     ------------------------------ ------- 286.7/358.9 kB 2.9 MB/s eta 0:00:01\n",
      "     -------------------------------------- 358.9/358.9 kB 2.8 MB/s eta 0:00:00\n",
      "Requirement already satisfied: google-api-python-client>=1.7.8 in c:\\users\\bachn\\appdata\\local\\programs\\python\\python310\\lib\\site-packages (from firebase-admin) (2.167.0)\n",
      "Collecting pyjwt[crypto]>=2.5.0\n",
      "  Downloading PyJWT-2.10.1-py3-none-any.whl (22 kB)\n",
      "Requirement already satisfied: google-api-core[grpc]<3.0.0dev,>=1.22.1 in c:\\users\\bachn\\appdata\\local\\programs\\python\\python310\\lib\\site-packages (from firebase-admin) (2.24.2)\n",
      "Collecting msgpack<2.0.0,>=0.5.2\n",
      "  Downloading msgpack-1.1.0-cp310-cp310-win_amd64.whl (74 kB)\n",
      "     ---------------------------------------- 0.0/74.7 kB ? eta -:--:--\n",
      "     ---------------------------------------- 74.7/74.7 kB 4.0 MB/s eta 0:00:00\n",
      "Requirement already satisfied: requests>=2.16.0 in c:\\users\\bachn\\appdata\\local\\programs\\python\\python310\\lib\\site-packages (from cachecontrol>=0.12.14->firebase-admin) (2.32.3)\n",
      "Requirement already satisfied: protobuf!=3.20.0,!=3.20.1,!=4.21.0,!=4.21.1,!=4.21.2,!=4.21.3,!=4.21.4,!=4.21.5,<7.0.0,>=3.19.5 in c:\\users\\bachn\\appdata\\local\\programs\\python\\python310\\lib\\site-packages (from google-api-core[grpc]<3.0.0dev,>=1.22.1->firebase-admin) (5.29.4)\n",
      "Requirement already satisfied: google-auth<3.0.0,>=2.14.1 in c:\\users\\bachn\\appdata\\local\\programs\\python\\python310\\lib\\site-packages (from google-api-core[grpc]<3.0.0dev,>=1.22.1->firebase-admin) (2.39.0)\n",
      "Requirement already satisfied: proto-plus<2.0.0,>=1.22.3 in c:\\users\\bachn\\appdata\\local\\programs\\python\\python310\\lib\\site-packages (from google-api-core[grpc]<3.0.0dev,>=1.22.1->firebase-admin) (1.26.1)\n",
      "Requirement already satisfied: googleapis-common-protos<2.0.0,>=1.56.2 in c:\\users\\bachn\\appdata\\local\\programs\\python\\python310\\lib\\site-packages (from google-api-core[grpc]<3.0.0dev,>=1.22.1->firebase-admin) (1.70.0)\n",
      "Collecting grpcio-status<2.0.dev0,>=1.33.2\n",
      "  Downloading grpcio_status-1.71.0-py3-none-any.whl (14 kB)\n",
      "Collecting grpcio<2.0dev,>=1.33.2\n",
      "  Downloading grpcio-1.71.0-cp310-cp310-win_amd64.whl (4.3 MB)\n",
      "     ---------------------------------------- 0.0/4.3 MB ? eta -:--:--\n",
      "     -- ------------------------------------- 0.3/4.3 MB 9.2 MB/s eta 0:00:01\n",
      "     ---- ----------------------------------- 0.5/4.3 MB 5.6 MB/s eta 0:00:01\n",
      "     ------- -------------------------------- 0.8/4.3 MB 6.0 MB/s eta 0:00:01\n",
      "     --------- ------------------------------ 1.0/4.3 MB 6.4 MB/s eta 0:00:01\n",
      "     ------------- -------------------------- 1.4/4.3 MB 6.5 MB/s eta 0:00:01\n",
      "     --------------- ------------------------ 1.7/4.3 MB 6.3 MB/s eta 0:00:01\n",
      "     ------------------ --------------------- 2.0/4.3 MB 6.3 MB/s eta 0:00:01\n",
      "     ------------------ --------------------- 2.0/4.3 MB 6.3 MB/s eta 0:00:01\n",
      "     ------------------ --------------------- 2.0/4.3 MB 6.3 MB/s eta 0:00:01\n",
      "     ------------------ --------------------- 2.0/4.3 MB 6.3 MB/s eta 0:00:01\n",
      "     ----------------------------- ---------- 3.1/4.3 MB 6.4 MB/s eta 0:00:01\n",
      "     -------------------------------- ------- 3.5/4.3 MB 6.4 MB/s eta 0:00:01\n",
      "     ----------------------------------- ---- 3.8/4.3 MB 6.3 MB/s eta 0:00:01\n",
      "     -------------------------------------- - 4.1/4.3 MB 6.4 MB/s eta 0:00:01\n",
      "     ---------------------------------------  4.3/4.3 MB 6.5 MB/s eta 0:00:01\n",
      "     ---------------------------------------- 4.3/4.3 MB 6.2 MB/s eta 0:00:00\n",
      "Requirement already satisfied: uritemplate<5,>=3.0.1 in c:\\users\\bachn\\appdata\\local\\programs\\python\\python310\\lib\\site-packages (from google-api-python-client>=1.7.8->firebase-admin) (4.1.1)\n",
      "Requirement already satisfied: google-auth-httplib2<1.0.0,>=0.2.0 in c:\\users\\bachn\\appdata\\local\\programs\\python\\python310\\lib\\site-packages (from google-api-python-client>=1.7.8->firebase-admin) (0.2.0)\n",
      "Requirement already satisfied: httplib2<1.0.0,>=0.19.0 in c:\\users\\bachn\\appdata\\local\\programs\\python\\python310\\lib\\site-packages (from google-api-python-client>=1.7.8->firebase-admin) (0.22.0)\n",
      "Requirement already satisfied: google-cloud-core<3.0.0,>=1.4.1 in c:\\users\\bachn\\appdata\\local\\programs\\python\\python310\\lib\\site-packages (from google-cloud-firestore>=2.19.0->firebase-admin) (2.4.3)\n",
      "Requirement already satisfied: google-crc32c<2.0dev,>=1.0 in c:\\users\\bachn\\appdata\\local\\programs\\python\\python310\\lib\\site-packages (from google-cloud-storage>=1.37.1->firebase-admin) (1.7.1)\n",
      "Requirement already satisfied: google-resumable-media>=2.7.2 in c:\\users\\bachn\\appdata\\local\\programs\\python\\python310\\lib\\site-packages (from google-cloud-storage>=1.37.1->firebase-admin) (2.7.2)\n",
      "Collecting cryptography>=3.4.0\n",
      "  Downloading cryptography-44.0.2-cp39-abi3-win_amd64.whl (3.2 MB)\n",
      "     ---------------------------------------- 0.0/3.2 MB ? eta -:--:--\n",
      "     - -------------------------------------- 0.2/3.2 MB 4.6 MB/s eta 0:00:01\n",
      "     ------ --------------------------------- 0.5/3.2 MB 6.6 MB/s eta 0:00:01\n",
      "     ---------- ----------------------------- 0.9/3.2 MB 7.0 MB/s eta 0:00:01\n",
      "     --------------- ------------------------ 1.3/3.2 MB 7.3 MB/s eta 0:00:01\n",
      "     ------------------- -------------------- 1.6/3.2 MB 7.2 MB/s eta 0:00:01\n",
      "     ------------------------ --------------- 2.0/3.2 MB 7.4 MB/s eta 0:00:01\n",
      "     ---------------------------- ----------- 2.3/3.2 MB 7.4 MB/s eta 0:00:01\n",
      "     -------------------------------- ------- 2.6/3.2 MB 7.3 MB/s eta 0:00:01\n",
      "     -------------------------------------- - 3.1/3.2 MB 7.6 MB/s eta 0:00:01\n",
      "     ---------------------------------------- 3.2/3.2 MB 7.1 MB/s eta 0:00:00\n",
      "Collecting cffi>=1.12\n",
      "  Downloading cffi-1.17.1-cp310-cp310-win_amd64.whl (181 kB)\n",
      "     ---------------------------------------- 0.0/181.3 kB ? eta -:--:--\n",
      "     -------------------------------------- 181.3/181.3 kB 5.5 MB/s eta 0:00:00\n",
      "Requirement already satisfied: rsa<5,>=3.1.4 in c:\\users\\bachn\\appdata\\local\\programs\\python\\python310\\lib\\site-packages (from google-auth<3.0.0,>=2.14.1->google-api-core[grpc]<3.0.0dev,>=1.22.1->firebase-admin) (4.9.1)\n",
      "Requirement already satisfied: pyasn1-modules>=0.2.1 in c:\\users\\bachn\\appdata\\local\\programs\\python\\python310\\lib\\site-packages (from google-auth<3.0.0,>=2.14.1->google-api-core[grpc]<3.0.0dev,>=1.22.1->firebase-admin) (0.4.2)\n",
      "Requirement already satisfied: cachetools<6.0,>=2.0.0 in c:\\users\\bachn\\appdata\\local\\programs\\python\\python310\\lib\\site-packages (from google-auth<3.0.0,>=2.14.1->google-api-core[grpc]<3.0.0dev,>=1.22.1->firebase-admin) (5.5.2)\n",
      "Requirement already satisfied: pyparsing!=3.0.0,!=3.0.1,!=3.0.2,!=3.0.3,<4,>=2.4.2 in c:\\users\\bachn\\appdata\\local\\programs\\python\\python310\\lib\\site-packages (from httplib2<1.0.0,>=0.19.0->google-api-python-client>=1.7.8->firebase-admin) (3.2.3)\n",
      "Requirement already satisfied: urllib3<3,>=1.21.1 in c:\\users\\bachn\\appdata\\local\\programs\\python\\python310\\lib\\site-packages (from requests>=2.16.0->cachecontrol>=0.12.14->firebase-admin) (2.3.0)\n",
      "Requirement already satisfied: charset-normalizer<4,>=2 in c:\\users\\bachn\\appdata\\local\\programs\\python\\python310\\lib\\site-packages (from requests>=2.16.0->cachecontrol>=0.12.14->firebase-admin) (3.4.1)\n",
      "Requirement already satisfied: certifi>=2017.4.17 in c:\\users\\bachn\\appdata\\local\\programs\\python\\python310\\lib\\site-packages (from requests>=2.16.0->cachecontrol>=0.12.14->firebase-admin) (2025.1.31)\n",
      "Requirement already satisfied: idna<4,>=2.5 in c:\\users\\bachn\\appdata\\local\\programs\\python\\python310\\lib\\site-packages (from requests>=2.16.0->cachecontrol>=0.12.14->firebase-admin) (3.10)\n",
      "Collecting pycparser\n",
      "  Downloading pycparser-2.22-py3-none-any.whl (117 kB)\n",
      "     ---------------------------------------- 0.0/117.6 kB ? eta -:--:--\n",
      "     -------------------------------------- 117.6/117.6 kB 6.7 MB/s eta 0:00:00\n",
      "Requirement already satisfied: pyasn1<0.7.0,>=0.6.1 in c:\\users\\bachn\\appdata\\local\\programs\\python\\python310\\lib\\site-packages (from pyasn1-modules>=0.2.1->google-auth<3.0.0,>=2.14.1->google-api-core[grpc]<3.0.0dev,>=1.22.1->firebase-admin) (0.6.1)\n",
      "Installing collected packages: pyjwt, pycparser, msgpack, grpcio, grpcio-status, cffi, cachecontrol, cryptography, google-cloud-firestore, firebase-admin\n",
      "Successfully installed cachecontrol-0.14.2 cffi-1.17.1 cryptography-44.0.2 firebase-admin-6.8.0 google-cloud-firestore-2.20.2 grpcio-1.71.0 grpcio-status-1.71.0 msgpack-1.1.0 pycparser-2.22 pyjwt-2.10.1\n",
      "Note: you may need to restart the kernel to use updated packages.\n"
     ]
    },
    {
     "name": "stderr",
     "output_type": "stream",
     "text": [
      "\n",
      "[notice] A new release of pip is available: 23.0.1 -> 25.1\n",
      "[notice] To update, run: python.exe -m pip install --upgrade pip\n"
     ]
    },
    {
     "name": "stdout",
     "output_type": "stream",
     "text": [
      "Requirement already satisfied: google-cloud-firestore in c:\\users\\bachn\\appdata\\local\\programs\\python\\python310\\lib\\site-packages (2.20.2)\n",
      "Requirement already satisfied: proto-plus<2.0.0,>=1.22.0 in c:\\users\\bachn\\appdata\\local\\programs\\python\\python310\\lib\\site-packages (from google-cloud-firestore) (1.26.1)\n",
      "Requirement already satisfied: google-api-core[grpc]!=2.0.*,!=2.1.*,!=2.10.*,!=2.2.*,!=2.3.*,!=2.4.*,!=2.5.*,!=2.6.*,!=2.7.*,!=2.8.*,!=2.9.*,<3.0.0,>=1.34.0 in c:\\users\\bachn\\appdata\\local\\programs\\python\\python310\\lib\\site-packages (from google-cloud-firestore) (2.24.2)\n",
      "Requirement already satisfied: google-cloud-core<3.0.0,>=1.4.1 in c:\\users\\bachn\\appdata\\local\\programs\\python\\python310\\lib\\site-packages (from google-cloud-firestore) (2.4.3)\n",
      "Requirement already satisfied: protobuf!=3.20.0,!=3.20.1,!=4.21.0,!=4.21.1,!=4.21.2,!=4.21.3,!=4.21.4,!=4.21.5,<7.0.0dev,>=3.20.2 in c:\\users\\bachn\\appdata\\local\\programs\\python\\python310\\lib\\site-packages (from google-cloud-firestore) (5.29.4)\n",
      "Requirement already satisfied: google-auth!=2.24.0,!=2.25.0,<3.0.0,>=2.14.1 in c:\\users\\bachn\\appdata\\local\\programs\\python\\python310\\lib\\site-packages (from google-cloud-firestore) (2.39.0)\n",
      "Requirement already satisfied: requests<3.0.0,>=2.18.0 in c:\\users\\bachn\\appdata\\local\\programs\\python\\python310\\lib\\site-packages (from google-api-core[grpc]!=2.0.*,!=2.1.*,!=2.10.*,!=2.2.*,!=2.3.*,!=2.4.*,!=2.5.*,!=2.6.*,!=2.7.*,!=2.8.*,!=2.9.*,<3.0.0,>=1.34.0->google-cloud-firestore) (2.32.3)\n",
      "Requirement already satisfied: googleapis-common-protos<2.0.0,>=1.56.2 in c:\\users\\bachn\\appdata\\local\\programs\\python\\python310\\lib\\site-packages (from google-api-core[grpc]!=2.0.*,!=2.1.*,!=2.10.*,!=2.2.*,!=2.3.*,!=2.4.*,!=2.5.*,!=2.6.*,!=2.7.*,!=2.8.*,!=2.9.*,<3.0.0,>=1.34.0->google-cloud-firestore) (1.70.0)\n",
      "Requirement already satisfied: grpcio-status<2.0.dev0,>=1.33.2 in c:\\users\\bachn\\appdata\\local\\programs\\python\\python310\\lib\\site-packages (from google-api-core[grpc]!=2.0.*,!=2.1.*,!=2.10.*,!=2.2.*,!=2.3.*,!=2.4.*,!=2.5.*,!=2.6.*,!=2.7.*,!=2.8.*,!=2.9.*,<3.0.0,>=1.34.0->google-cloud-firestore) (1.71.0)\n",
      "Requirement already satisfied: grpcio<2.0dev,>=1.33.2 in c:\\users\\bachn\\appdata\\local\\programs\\python\\python310\\lib\\site-packages (from google-api-core[grpc]!=2.0.*,!=2.1.*,!=2.10.*,!=2.2.*,!=2.3.*,!=2.4.*,!=2.5.*,!=2.6.*,!=2.7.*,!=2.8.*,!=2.9.*,<3.0.0,>=1.34.0->google-cloud-firestore) (1.71.0)\n",
      "Requirement already satisfied: rsa<5,>=3.1.4 in c:\\users\\bachn\\appdata\\local\\programs\\python\\python310\\lib\\site-packages (from google-auth!=2.24.0,!=2.25.0,<3.0.0,>=2.14.1->google-cloud-firestore) (4.9.1)\n",
      "Requirement already satisfied: pyasn1-modules>=0.2.1 in c:\\users\\bachn\\appdata\\local\\programs\\python\\python310\\lib\\site-packages (from google-auth!=2.24.0,!=2.25.0,<3.0.0,>=2.14.1->google-cloud-firestore) (0.4.2)\n",
      "Requirement already satisfied: cachetools<6.0,>=2.0.0 in c:\\users\\bachn\\appdata\\local\\programs\\python\\python310\\lib\\site-packages (from google-auth!=2.24.0,!=2.25.0,<3.0.0,>=2.14.1->google-cloud-firestore) (5.5.2)\n",
      "Requirement already satisfied: pyasn1<0.7.0,>=0.6.1 in c:\\users\\bachn\\appdata\\local\\programs\\python\\python310\\lib\\site-packages (from pyasn1-modules>=0.2.1->google-auth!=2.24.0,!=2.25.0,<3.0.0,>=2.14.1->google-cloud-firestore) (0.6.1)\n",
      "Requirement already satisfied: certifi>=2017.4.17 in c:\\users\\bachn\\appdata\\local\\programs\\python\\python310\\lib\\site-packages (from requests<3.0.0,>=2.18.0->google-api-core[grpc]!=2.0.*,!=2.1.*,!=2.10.*,!=2.2.*,!=2.3.*,!=2.4.*,!=2.5.*,!=2.6.*,!=2.7.*,!=2.8.*,!=2.9.*,<3.0.0,>=1.34.0->google-cloud-firestore) (2025.1.31)\n",
      "Requirement already satisfied: charset-normalizer<4,>=2 in c:\\users\\bachn\\appdata\\local\\programs\\python\\python310\\lib\\site-packages (from requests<3.0.0,>=2.18.0->google-api-core[grpc]!=2.0.*,!=2.1.*,!=2.10.*,!=2.2.*,!=2.3.*,!=2.4.*,!=2.5.*,!=2.6.*,!=2.7.*,!=2.8.*,!=2.9.*,<3.0.0,>=1.34.0->google-cloud-firestore) (3.4.1)\n",
      "Requirement already satisfied: idna<4,>=2.5 in c:\\users\\bachn\\appdata\\local\\programs\\python\\python310\\lib\\site-packages (from requests<3.0.0,>=2.18.0->google-api-core[grpc]!=2.0.*,!=2.1.*,!=2.10.*,!=2.2.*,!=2.3.*,!=2.4.*,!=2.5.*,!=2.6.*,!=2.7.*,!=2.8.*,!=2.9.*,<3.0.0,>=1.34.0->google-cloud-firestore) (3.10)\n",
      "Requirement already satisfied: urllib3<3,>=1.21.1 in c:\\users\\bachn\\appdata\\local\\programs\\python\\python310\\lib\\site-packages (from requests<3.0.0,>=2.18.0->google-api-core[grpc]!=2.0.*,!=2.1.*,!=2.10.*,!=2.2.*,!=2.3.*,!=2.4.*,!=2.5.*,!=2.6.*,!=2.7.*,!=2.8.*,!=2.9.*,<3.0.0,>=1.34.0->google-cloud-firestore) (2.3.0)\n",
      "Note: you may need to restart the kernel to use updated packages.\n"
     ]
    },
    {
     "name": "stderr",
     "output_type": "stream",
     "text": [
      "\n",
      "[notice] A new release of pip is available: 23.0.1 -> 25.1\n",
      "[notice] To update, run: python.exe -m pip install --upgrade pip\n"
     ]
    }
   ],
   "source": [
    "%pip install firebase-admin\n",
    "%pip install google-cloud-firestore"
   ]
  },
  {
   "cell_type": "code",
   "execution_count": 2,
   "id": "805c5c90",
   "metadata": {},
   "outputs": [
    {
     "name": "stdout",
     "output_type": "stream",
     "text": [
      "Commercial => {}\n",
      "Fraud => {}\n",
      "Others => {}\n",
      "Work => {}\n"
     ]
    }
   ],
   "source": [
    "import firebase_admin\n",
    "from firebase_admin import credentials, firestore\n",
    "\n",
    "# Bước 1: Load file JSON\n",
    "cred = credentials.Certificate(\"../firestore_access_key.json\")\n",
    "\n",
    "# Bước 2: Khởi tạo app\n",
    "firebase_admin.initialize_app(cred)\n",
    "\n",
    "# Bước 3: Kết nối Firestore\n",
    "db = firestore.client()\n",
    "\n",
    "# Test: Lấy tất cả document trong collection \"category\"\n",
    "docs = db.collection('category').stream()\n",
    "for doc in docs:\n",
    "    print(f\"{doc.id} => {doc.to_dict()}\")"
   ]
  },
  {
   "cell_type": "code",
   "execution_count": 3,
   "id": "1d8b49e0",
   "metadata": {},
   "outputs": [],
   "source": [
    "import random\n",
    "\n",
    "for i in range(1, 11):\n",
    "    doc_ref = db.collection('user').document('nmthuan21@clc.fitus.edu.vn').collection('mail').document(f'mail{i}')\n",
    "    random_category = random.choice(['Work', 'Commercial', 'Fraud', 'Others'])\n",
    "    doc_ref.set({\n",
    "        'sender': 'hihi@gmail.com',\n",
    "        'subject': f'This is mail number {i}',\n",
    "        'categoryID': random_category,\n",
    "        'description': f'This is a mail from {random_category} number {i}',\n",
    "        'body': 'This is the body of the mail, which contains the content of the email. It can be very long and detailed. It can also include HTML content, images, and other media.',\n",
    "})"
   ]
  },
  {
   "cell_type": "code",
   "execution_count": 9,
   "id": "0948244e",
   "metadata": {},
   "outputs": [],
   "source": [
    "import logging\n",
    "from typing import List\n",
    "\n",
    "# Initialize Firestore\n",
    "def init_firestore():\n",
    "    if not firebase_admin._apps:\n",
    "        cred = credentials.Certificate(\"../firestore_access_key.json\")\n",
    "        firebase_admin.initialize_app(cred)\n",
    "    return firestore.client()\n",
    "\n",
    "# Add list of mails vào collection 'email'\n",
    "def add_email_to_user(user_id: str, email_id: str, email_data: dict) -> bool:\n",
    "    db = init_firestore()\n",
    "    try:\n",
    "        # Đường dẫn tới mail collection của user\n",
    "        mail_ref = db.collection('user').document(user_id).collection('mail').document(email_id)\n",
    "        \n",
    "        # Set dữ liệu\n",
    "        mail_ref.set(email_data)\n",
    "\n",
    "        logging.info(f\"Successfully added email {email_id} to user {user_id}.\")\n",
    "        return True\n",
    "    \n",
    "    except Exception as e:\n",
    "        logging.error(f\"Error adding email to user: {e}\")\n",
    "        return False\n",
    "\n",
    "\n",
    "def query_emails_by_category(user_id: str, category_id: str) -> List[dict]:\n",
    "    db = init_firestore()\n",
    "    output = []\n",
    "\n",
    "    try:\n",
    "        mails = db.collection('user').document(user_id).collection('mail') \\\n",
    "            .where('categoryID', '==', category_id) \\\n",
    "            .stream()\n",
    "\n",
    "        for mail_doc in mails:\n",
    "            data = mail_doc.to_dict()\n",
    "            data['id'] = mail_doc.id\n",
    "            output.append(data)\n",
    "\n",
    "        logging.info(f\"Successfully fetched emails with category {category_id} for user {user_id}.\")\n",
    "    except Exception as e:\n",
    "        logging.error(f\"Error querying emails by category: {e}\")\n",
    "\n",
    "    return output"
   ]
  },
  {
   "cell_type": "code",
   "execution_count": null,
   "id": "3c299de9",
   "metadata": {},
   "outputs": [],
   "source": [
    "add_email_to_user('nmthuan21@clc.fitus.edu.vn', 'mail1', {\n",
    "    'categoryID': 'Work',\n",
    "    'description': 'This is a work email'\n",
    "})"
   ]
  },
  {
   "cell_type": "code",
   "execution_count": 20,
   "id": "d4ead4f0",
   "metadata": {},
   "outputs": [
    {
     "name": "stdout",
     "output_type": "stream",
     "text": [
      "ID: mail3, Description: This is a mail from Fraud number 3, Category: Fraud\n",
      "ID: mail6, Description: This is a mail from Fraud number 6, Category: Fraud\n",
      "ID: mail8, Description: This is a mail from Fraud number 8, Category: Fraud\n"
     ]
    }
   ],
   "source": [
    "email_from_work = query_emails_by_category('nmthuan21@clc.fitus.edu.vn', 'Fraud')\n",
    "\n",
    "for email in email_from_work:\n",
    "    print(f\"ID: {email['id']}, Description: {email['description']}, Category: {email['categoryID']}\")"
   ]
  }
 ],
 "metadata": {
  "kernelspec": {
   "display_name": "Python 3",
   "language": "python",
   "name": "python3"
  },
  "language_info": {
   "codemirror_mode": {
    "name": "ipython",
    "version": 3
   },
   "file_extension": ".py",
   "mimetype": "text/x-python",
   "name": "python",
   "nbconvert_exporter": "python",
   "pygments_lexer": "ipython3",
   "version": "3.10.11"
  }
 },
 "nbformat": 4,
 "nbformat_minor": 5
}
